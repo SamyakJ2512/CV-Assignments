{
 "cells": [
  {
   "cell_type": "markdown",
   "metadata": {},
   "source": [
    "# Load Best Model"
   ]
  },
  {
   "cell_type": "code",
   "execution_count": null,
   "metadata": {},
   "outputs": [],
   "source": [
    "from tensorflow.keras.models import load_model\n",
    "model = load_model('Model-1.h5')"
   ]
  },
  {
   "cell_type": "code",
   "execution_count": null,
   "metadata": {},
   "outputs": [],
   "source": [
    "import tensorflow\n",
    "import tensorflow as tf\n",
    "from IPython.display import Image\n",
    "import matplotlib.pyplot as plt\n",
    "import matplotlib.cm as cm\n",
    "def make_gradcam_heatmap(img_array, model):\n",
    "    last_conv_layer = model.layers[-3]\n",
    "    last_conv_layer_model = tensorflow.keras.Model(model.inputs, last_conv_layer.output)\n",
    "\n",
    "    classifier_input = tensorflow.keras.Input(shape=last_conv_layer.output.shape[1:])\n",
    "    x = classifier_input\n",
    "    x = model.layers[-2](x)\n",
    "    x = model.layers[-1](x)\n",
    "    \n",
    "    classifier_model = tensorflow.keras.Model(classifier_input, x)\n",
    "\n",
    "    with tf.GradientTape() as tape:\n",
    "        last_conv_layer_output = last_conv_layer_model([img_array,img_array])\n",
    "        tape.watch(last_conv_layer_output)\n",
    "        preds = classifier_model(last_conv_layer_output)\n",
    "        top_pred_index = tf.argmax(preds[0])\n",
    "        top_class_channel = preds[:, top_pred_index]\n",
    "\n",
    "    grads = tape.gradient(top_class_channel, last_conv_layer_output)\n",
    "\n",
    "    pooled_grads = tf.reduce_mean(grads, axis=(0, 1, 2))\n",
    "\n",
    "    last_conv_layer_output = last_conv_layer_output.numpy()[0]\n",
    "    pooled_grads = pooled_grads.numpy()\n",
    "    for i in range(pooled_grads.shape[-1]):\n",
    "        last_conv_layer_output[:, :, i] *= pooled_grads[i]\n",
    "\n",
    "    heatmap = np.mean(last_conv_layer_output, axis=-1)\n",
    "\n",
    "    heatmap = np.maximum(heatmap, 0) / np.max(heatmap)\n",
    "    return heatmap\n"
   ]
  },
  {
   "cell_type": "markdown",
   "metadata": {},
   "source": [
    "# Load the Test Data"
   ]
  },
  {
   "cell_type": "code",
   "execution_count": null,
   "metadata": {},
   "outputs": [],
   "source": [
    "import numpy as np\n",
    "x_test = np.load(\"drive/My Drive/Test_Data/testx.npy\")\n",
    "y_test = np.load(\"drive/My Drive/Test_Data/testy.npy\")\n",
    "from sklearn.utils import shuffle\n",
    "x_test, y_test = shuffle(x_test, y_test, random_state=0)"
   ]
  },
  {
   "cell_type": "markdown",
   "metadata": {},
   "source": [
    "# Load the Train Data"
   ]
  },
  {
   "cell_type": "code",
   "execution_count": null,
   "metadata": {},
   "outputs": [],
   "source": [
    "import numpy as np\n",
    "x_train = np.load(\"drive/My Drive/Train_Data/train_x.npy\")\n",
    "y_train = np.load(\"drive/My Drive/Train_Data/train_y.npy\")\n",
    "train_mean = np.mean(x_train)\n",
    "train_std = np.std(x_train)"
   ]
  },
  {
   "cell_type": "markdown",
   "metadata": {},
   "source": [
    "# Perform GradCam Visualization"
   ]
  },
  {
   "cell_type": "code",
   "execution_count": null,
   "metadata": {},
   "outputs": [],
   "source": [
    "img = x_test[20]\n",
    "img_array = (x_test[20] - train_mean) / train_std\n",
    "img_array = img_array.reshape(1,512,512,3)\n",
    "\n",
    "\n",
    "heatmap = make_gradcam_heatmap(img_array, model)\n",
    "\n",
    "\n",
    "\n",
    "\n",
    "\n",
    "heatmap = np.uint8(255 * heatmap)\n",
    "\n",
    "jet = cm.get_cmap(\"jet\")\n",
    "\n",
    "jet_colors = jet(np.arange(256))[:, :3]\n",
    "jet_heatmap = jet_colors[heatmap]\n",
    "\n",
    "jet_heatmap = tensorflow.keras.preprocessing.image.array_to_img(jet_heatmap)\n",
    "jet_heatmap = jet_heatmap.resize((img.shape[1], img.shape[0]))\n",
    "jet_heatmap = tensorflow.keras.preprocessing.image.img_to_array(jet_heatmap)\n",
    "\n",
    "superimposed_img =  img\n",
    "superimposed_img = tensorflow.keras.preprocessing.image.array_to_img(superimposed_img)\n",
    "\n",
    "\n",
    "save_path = \"test.jpg\"\n",
    "superimposed_img.save(save_path)\n",
    "\n",
    "display(Image(save_path))"
   ]
  }
 ],
 "metadata": {
  "kernelspec": {
   "display_name": "Python 3",
   "language": "python",
   "name": "python3"
  },
  "language_info": {
   "codemirror_mode": {
    "name": "ipython",
    "version": 3
   },
   "file_extension": ".py",
   "mimetype": "text/x-python",
   "name": "python",
   "nbconvert_exporter": "python",
   "pygments_lexer": "ipython3",
   "version": "3.7.4"
  }
 },
 "nbformat": 4,
 "nbformat_minor": 2
}
